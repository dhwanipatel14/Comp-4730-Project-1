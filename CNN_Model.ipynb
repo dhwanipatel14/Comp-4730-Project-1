{
  "nbformat": 4,
  "nbformat_minor": 0,
  "metadata": {
    "colab": {
      "provenance": [],
      "toc_visible": true,
      "authorship_tag": "ABX9TyM9ME2Qhu/fHKShOn/LXuXO",
      "include_colab_link": true
    },
    "kernelspec": {
      "name": "python3",
      "display_name": "Python 3"
    },
    "language_info": {
      "name": "python"
    }
  },
  "cells": [
    {
      "cell_type": "markdown",
      "metadata": {
        "id": "view-in-github",
        "colab_type": "text"
      },
      "source": [
        "<a href=\"https://colab.research.google.com/github/dhwanipatel14/Comp-4730-Project-1/blob/master/CNN_Model.ipynb\" target=\"_parent\"><img src=\"https://colab.research.google.com/assets/colab-badge.svg\" alt=\"Open In Colab\"/></a>"
      ]
    },
    {
      "cell_type": "code",
      "execution_count": 151,
      "metadata": {
        "colab": {
          "base_uri": "https://localhost:8080/"
        },
        "id": "7CqzAJJzBCDu",
        "outputId": "22089aae-462d-4cfa-8e8f-83ea09367b34"
      },
      "outputs": [
        {
          "output_type": "stream",
          "name": "stdout",
          "text": [
            "Looking in indexes: https://pypi.org/simple, https://us-python.pkg.dev/colab-wheels/public/simple/\n",
            "Requirement already satisfied: keras in /usr/local/lib/python3.7/dist-packages (2.9.0)\n"
          ]
        }
      ],
      "source": [
        "#install keras\n",
        "!pip install keras"
      ]
    },
    {
      "cell_type": "code",
      "source": [
        "import numpy as np \n",
        "import tensorflow as tf\n",
        "import keras  \n",
        "from keras.datasets import mnist \n",
        "from keras.models import Model \n",
        "from keras.layers import Dense, Input\n",
        "from keras.layers import Conv2D, MaxPooling2D, Dropout, Flatten \n",
        "from keras import backend as k "
      ],
      "metadata": {
        "id": "B1AYobFwBj9a"
      },
      "execution_count": null,
      "outputs": []
    },
    {
      "cell_type": "code",
      "source": [
        "#import TensorFlow and MNIST dataset under the Keras API\n",
        "mnist = tf.keras.datasets.mnist # 0-9, 28x28 images, 1 colour channel"
      ],
      "metadata": {
        "id": "k5ebz6yZCl9U"
      },
      "execution_count": null,
      "outputs": []
    },
    {
      "cell_type": "code",
      "source": [
        "#load the dataset\n",
        "(x_train, y_train), (x_test, y_test) = mnist.load_data() "
      ],
      "metadata": {
        "id": "h86dlNQYB5cI"
      },
      "execution_count": null,
      "outputs": []
    },
    {
      "cell_type": "code",
      "source": [
        "print(\"Train dataset size: \", x_train.shape)\n",
        "print(\"Test dataset size: \", x_test.shape)"
      ],
      "metadata": {
        "colab": {
          "base_uri": "https://localhost:8080/"
        },
        "id": "d8mmiFCQC_j0",
        "outputId": "f8d0b533-49a0-4a9e-eb0a-5b7054d513d7"
      },
      "execution_count": null,
      "outputs": [
        {
          "output_type": "stream",
          "name": "stdout",
          "text": [
            "Train dataset size:  (60000, 28, 28)\n",
            "Test dataset size:  (10000, 28, 28)\n"
          ]
        }
      ]
    },
    {
      "cell_type": "code",
      "source": [
        "x_train = tf.keras.utils.normalize(x_train, axis=1) \n",
        "x_test = tf.keras.utils.normalize(x_test, axis=1)   \n",
        "\n",
        "# need to reshape the data as keras needs 4D datasets, and ours are 3D right now\n",
        "x_train = np.expand_dims(x_train, axis=-1)\n",
        "x_test = np.expand_dims(x_test, axis=-1)\n",
        "\n",
        "# new reshaped dataset\n",
        "print(x_test.shape)\n",
        "print(x_train.shape)\n"
      ],
      "metadata": {
        "colab": {
          "base_uri": "https://localhost:8080/"
        },
        "id": "O6-7QG09DLBY",
        "outputId": "b144675a-c490-490f-b2b8-90f47f50dda2"
      },
      "execution_count": null,
      "outputs": [
        {
          "output_type": "stream",
          "name": "stdout",
          "text": [
            "(10000, 28, 28, 1)\n",
            "(60000, 28, 28, 1)\n"
          ]
        }
      ]
    },
    {
      "cell_type": "code",
      "source": [
        "# build the model\n",
        "model = tf.keras.models.Sequential() # most common model\n",
        "\n",
        "# hidden layers\n",
        "model.add(tf.keras.layers.Conv2D(64, (3,3), activation=tf.nn.relu, input_shape=(28, 28, 1)))\n",
        "model.add(tf.keras.layers.MaxPooling2D((2,2)))\n",
        "\n",
        "model.add(tf.keras.layers.Conv2D(128, (3,3), activation=tf.nn.relu))\n",
        "model.add(tf.keras.layers.MaxPooling2D((2,2)))\n",
        "\n",
        "# flattening the input layer\n",
        "model.add(tf.keras.layers.Flatten()) \n",
        "\n",
        "# output layer\n",
        "# last dense layer must have 10 neurons as we have 10 classes\n",
        "model.add(tf.keras.layers.Dense(10, activation=tf.nn.softmax)) "
      ],
      "metadata": {
        "id": "_gqaIHrlGnZn"
      },
      "execution_count": null,
      "outputs": []
    },
    {
      "cell_type": "code",
      "source": [
        "#Compile the model\n",
        "model.compile(optimizer='adam', loss='sparse_categorical_crossentropy', metrics=['accuracy'])"
      ],
      "metadata": {
        "id": "Alipb57dN2LG"
      },
      "execution_count": null,
      "outputs": []
    },
    {
      "cell_type": "code",
      "source": [
        "#Fit the model\n",
        "model.fit(x_train, y_train, epochs=3)"
      ],
      "metadata": {
        "colab": {
          "base_uri": "https://localhost:8080/"
        },
        "id": "1tRbYCJuVRUh",
        "outputId": "da78d9bc-1f66-4bce-bac0-2375492f0b52"
      },
      "execution_count": null,
      "outputs": [
        {
          "output_type": "stream",
          "name": "stdout",
          "text": [
            "Epoch 1/3\n",
            "1875/1875 [==============================] - 129s 69ms/step - loss: 0.1601 - accuracy: 0.9522\n",
            "Epoch 2/3\n",
            "1875/1875 [==============================] - 128s 68ms/step - loss: 0.0560 - accuracy: 0.9826\n",
            "Epoch 3/3\n",
            "1875/1875 [==============================] - 125s 67ms/step - loss: 0.0386 - accuracy: 0.9879\n"
          ]
        },
        {
          "output_type": "execute_result",
          "data": {
            "text/plain": [
              "<keras.callbacks.History at 0x7f6510fa0090>"
            ]
          },
          "metadata": {},
          "execution_count": 130
        }
      ]
    },
    {
      "cell_type": "code",
      "source": [
        "#Calcuate loss and accuracy\n",
        "score = model.evaluate(x_test, y_test, verbose=0) \n",
        "print('loss=', score[0]) \n",
        "print('accuracy=', score[1])\n"
      ],
      "metadata": {
        "colab": {
          "base_uri": "https://localhost:8080/"
        },
        "id": "X56EU-A6hc3L",
        "outputId": "70da9ae7-3a75-42d0-be4b-4d3e4257797c"
      },
      "execution_count": null,
      "outputs": [
        {
          "output_type": "stream",
          "name": "stdout",
          "text": [
            "loss= 0.04368426650762558\n",
            "accuracy= 0.9865999817848206\n"
          ]
        }
      ]
    },
    {
      "cell_type": "code",
      "source": [
        "#sinle Value predication in number\n",
        "predictions = model.predict(x_test)\n",
        "print(predictions) #probability\n",
        "print(np.argmax(np.round(predictions[2])))"
      ],
      "metadata": {
        "colab": {
          "base_uri": "https://localhost:8080/"
        },
        "id": "ZM0_GRhijNhU",
        "outputId": "fb332ec7-1bf6-4437-bc61-f90a7592bdbd"
      },
      "execution_count": null,
      "outputs": [
        {
          "output_type": "stream",
          "name": "stdout",
          "text": [
            "313/313 [==============================] - 6s 18ms/step\n",
            "[[1.71734238e-09 2.18808860e-09 2.05574565e-06 ... 9.99995768e-01\n",
            "  2.07297268e-09 8.98849208e-08]\n",
            " [6.10037423e-05 3.07534319e-05 9.99720812e-01 ... 1.80390440e-08\n",
            "  1.30375665e-05 3.31740524e-09]\n",
            " [1.20124781e-08 9.99952376e-01 1.91727239e-08 ... 4.00937552e-06\n",
            "  5.85889950e-07 9.11272025e-07]\n",
            " ...\n",
            " [4.49690146e-11 2.44204784e-07 8.82038539e-12 ... 1.40673887e-06\n",
            "  3.79166227e-06 6.82983045e-06]\n",
            " [5.16519003e-06 2.06621187e-09 3.37930572e-08 ... 1.97763050e-09\n",
            "  6.64419821e-03 2.98809459e-06]\n",
            " [4.24024802e-05 1.86335547e-09 3.06698576e-06 ... 1.55220614e-10\n",
            "  6.81687607e-06 4.15028047e-08]]\n",
            "1\n"
          ]
        }
      ]
    },
    {
      "cell_type": "code",
      "source": [
        "#sinle Value predication in graph (plot)\n",
        "import matplotlib.pyplot as plt\n",
        "plt.imshow(x_test[2].reshape(28, 28), cmap = plt.cm.binary)\n",
        "plt.show()"
      ],
      "metadata": {
        "colab": {
          "base_uri": "https://localhost:8080/",
          "height": 265
        },
        "id": "PJDpVnAOjSLY",
        "outputId": "f0cc6ad1-d9ac-4e22-acf8-c6ea2ad27314"
      },
      "execution_count": null,
      "outputs": [
        {
          "output_type": "display_data",
          "data": {
            "text/plain": [
              "<Figure size 432x288 with 1 Axes>"
            ],
            "image/png": "[encoded data removed]"
          },
          "metadata": {
            "needs_background": "light"
          }
        }
      ]
    },
    {
      "cell_type": "markdown",
      "source": [
        "**Summay of model**"
      ],
      "metadata": {
        "id": "8EBSeZYnkDb2"
      }
    },
    {
      "cell_type": "code",
      "source": [
        "model.summary()"
      ],
      "metadata": {
        "colab": {
          "base_uri": "https://localhost:8080/"
        },
        "id": "KEalTOPOj3A7",
        "outputId": "3ea191b7-e2f8-4082-e0aa-c4cee03dcf57"
      },
      "execution_count": null,
      "outputs": [
        {
          "output_type": "stream",
          "name": "stdout",
          "text": [
            "Model: \"sequential_10\"\n",
            "_________________________________________________________________\n",
            " Layer (type)                Output Shape              Param #   \n",
            "=================================================================\n",
            " conv2d_37 (Conv2D)          (None, 26, 26, 64)        640       \n",
            "                                                                 \n",
            " max_pooling2d_26 (MaxPoolin  (None, 13, 13, 64)       0         \n",
            " g2D)                                                            \n",
            "                                                                 \n",
            " conv2d_38 (Conv2D)          (None, 11, 11, 128)       73856     \n",
            "                                                                 \n",
            " max_pooling2d_27 (MaxPoolin  (None, 5, 5, 128)        0         \n",
            " g2D)                                                            \n",
            "                                                                 \n",
            " flatten_12 (Flatten)        (None, 3200)              0         \n",
            "                                                                 \n",
            " dense_19 (Dense)            (None, 10)                32010     \n",
            "                                                                 \n",
            "=================================================================\n",
            "Total params: 106,506\n",
            "Trainable params: 106,506\n",
            "Non-trainable params: 0\n",
            "_________________________________________________________________\n"
          ]
        }
      ]
    },
    {
      "cell_type": "code",
      "source": [
        "import random\n",
        "import matplotlib.pyplot as plt\n",
        "\n",
        "w, x, y, z = x_test.shape\n",
        "\n",
        "while(1):\n",
        "    \n",
        "    # choose random sample from test dataset\n",
        "    num1 = random.randint(0, x)\n",
        "    print(num1)\n",
        "    # show sample chosen\n",
        "    \n",
        "    plt.imshow(x_test[num1].reshape(28, 28))\n",
        "    plt.show()\n",
        "   \n",
        "    \n",
        "    # show model prediction\n",
        "    print(\"Model Prediction: \", np.argmax(predictions[num1]))\n",
        "    \n",
        "    # Pause when 'q' is entered\n",
        "    cont = input('Paused - press ENTER to continue, q to exit: ')\n",
        "    if cont == 'q':\n",
        "        break"
      ],
      "metadata": {
        "colab": {
          "base_uri": "https://localhost:8080/",
          "height": 1000
        },
        "id": "fWL-XZ9VkqUo",
        "outputId": "c8d77c9f-3250-487d-bc52-81e1316de7a4"
      },
      "execution_count": 158,
      "outputs": [
        {
          "output_type": "stream",
          "name": "stdout",
          "text": [
            "17\n"
          ]
        },
        {
          "output_type": "display_data",
          "data": {
            "text/plain": [
              "<Figure size 432x288 with 1 Axes>"
            ],
            "image/png": "[encoded data removed]"
          },
          "metadata": {
            "needs_background": "light"
          }
        },
        {
          "output_type": "stream",
          "name": "stdout",
          "text": [
            "Model Prediction:  7\n",
            "Paused - press ENTER to continue, q to exit: \n",
            "17\n"
          ]
        },
        {
          "output_type": "display_data",
          "data": {
            "text/plain": [
              "<Figure size 432x288 with 1 Axes>"
            ],
            "image/png": "[encoded data removed]"
          },
          "metadata": {
            "needs_background": "light"
          }
        },
        {
          "output_type": "stream",
          "name": "stdout",
          "text": [
            "Model Prediction:  7\n",
            "Paused - press ENTER to continue, q to exit: \n",
            "21\n"
          ]
        },
        {
          "output_type": "display_data",
          "data": {
            "text/plain": [
              "<Figure size 432x288 with 1 Axes>"
            ],
            "image/png": "[encoded data removed]"
          },
          "metadata": {
            "needs_background": "light"
          }
        },
        {
          "output_type": "stream",
          "name": "stdout",
          "text": [
            "Model Prediction:  6\n",
            "Paused - press ENTER to continue, q to exit: \n",
            "11\n"
          ]
        },
        {
          "output_type": "display_data",
          "data": {
            "text/plain": [
              "<Figure size 432x288 with 1 Axes>"
            ],
            "image/png": "[encoded data removed]"
          },
          "metadata": {
            "needs_background": "light"
          }
        },
        {
          "output_type": "stream",
          "name": "stdout",
          "text": [
            "Model Prediction:  6\n",
            "Paused - press ENTER to continue, q to exit: \n",
            "20\n"
          ]
        },
        {
          "output_type": "display_data",
          "data": {
            "text/plain": [
              "<Figure size 432x288 with 1 Axes>"
            ],
            "image/png": "[encoded data removed]"
          },
          "metadata": {
            "needs_background": "light"
          }
        },
        {
          "name": "stdout",
          "output_type": "stream",
          "text": [
            "Model Prediction:  9\n",
            "Paused - press ENTER to continue, q to exit: q\n"
          ]
        }
      ]
    }
  ]
}